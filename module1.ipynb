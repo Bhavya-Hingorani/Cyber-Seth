{
 "cells": [
  {
   "cell_type": "code",
   "execution_count": 1,
   "source": [
    "from matplotlib import pyplot as plt\r\n",
    "import numpy as np\r\n",
    "import csv\r\n",
    "import pandas as pd\r\n",
    "import seaborn as sns\r\n",
    "from sklearn.model_selection import train_test_split "
   ],
   "outputs": [],
   "metadata": {}
  },
  {
   "cell_type": "code",
   "execution_count": 5,
   "source": [
    "dataFrame = pd.read_csv('C:\\\\Users\\\\sharm\\\\Desktop\\\\dataset.csv')"
   ],
   "outputs": [],
   "metadata": {}
  },
  {
   "cell_type": "code",
   "execution_count": 21,
   "source": [
    "trainSet  = dataFrame.iloc[:int(((len(dataFrame)*70)/100))]\r\n",
    "testSet  = dataFrame.iloc[int(((len(dataFrame)*70)/100)):]\r\n",
    "\r\n",
    "print(trainSet)"
   ],
   "outputs": [
    {
     "output_type": "stream",
     "name": "stdout",
     "text": [
      "         Unnamed: 0  step      type     amount     nameOrig  oldbalanceOrg  \\\n",
      "0                 0     1   PAYMENT    9839.64  C1231006815      170136.00   \n",
      "1                 1     1   PAYMENT    1864.28  C1666544295       21249.00   \n",
      "2                 2     1  TRANSFER     181.00  C1305486145         181.00   \n",
      "3                 3     1  CASH_OUT     181.00   C840083671         181.00   \n",
      "4                 4     1   PAYMENT   11668.14  C2048537720       41554.00   \n",
      "...             ...   ...       ...        ...          ...            ...   \n",
      "4453829     4453829   323   CASH_IN  260146.62   C607948707    12615813.90   \n",
      "4453830     4453830   323   CASH_IN   96578.20  C1633723575    12875960.52   \n",
      "4453831     4453831   323   CASH_IN   50533.48  C2104802211    12972538.71   \n",
      "4453832     4453832   323   CASH_IN  281698.65    C39258029    13023072.19   \n",
      "4453833     4453833   323  CASH_OUT   44289.10  C1121374675       17504.00   \n",
      "\n",
      "         newbalanceOrig     nameDest  oldbalanceDest  newbalanceDest  isFraud  \\\n",
      "0             160296.36  M1979787155            0.00            0.00        0   \n",
      "1              19384.72  M2044282225            0.00            0.00        0   \n",
      "2                  0.00   C553264065            0.00            0.00        1   \n",
      "3                  0.00    C38997010        21182.00            0.00        1   \n",
      "4              29885.86  M1230701703            0.00            0.00        0   \n",
      "...                 ...          ...             ...             ...      ...   \n",
      "4453829     12875960.52  C1787241197       287018.37        26871.75        0   \n",
      "4453830     12972538.71   C168769532       262335.34       165757.15        0   \n",
      "4453831     13023072.19   C173017906       208270.10       157736.62        0   \n",
      "4453832     13304770.84   C270610167      3258819.89      2758904.27        0   \n",
      "4453833            0.00   C438899601            0.00        44289.10        0   \n",
      "\n",
      "         isFlaggedFraud  \n",
      "0                     0  \n",
      "1                     0  \n",
      "2                     0  \n",
      "3                     0  \n",
      "4                     0  \n",
      "...                 ...  \n",
      "4453829               0  \n",
      "4453830               0  \n",
      "4453831               0  \n",
      "4453832               0  \n",
      "4453833               0  \n",
      "\n",
      "[4453834 rows x 12 columns]\n"
     ]
    }
   ],
   "metadata": {}
  },
  {
   "cell_type": "code",
   "execution_count": 10,
   "source": [],
   "outputs": [],
   "metadata": {}
  },
  {
   "cell_type": "code",
   "execution_count": 11,
   "source": [],
   "outputs": [
    {
     "output_type": "stream",
     "name": "stdout",
     "text": [
      "(4453834, 8)\n",
      "(4453834, 1)\n",
      "(1908786, 8)\n",
      "(1908786, 1)\n"
     ]
    }
   ],
   "metadata": {}
  }
 ],
 "metadata": {
  "orig_nbformat": 4,
  "language_info": {
   "name": "python",
   "version": "3.7.6",
   "mimetype": "text/x-python",
   "codemirror_mode": {
    "name": "ipython",
    "version": 3
   },
   "pygments_lexer": "ipython3",
   "nbconvert_exporter": "python",
   "file_extension": ".py"
  },
  "kernelspec": {
   "name": "python3",
   "display_name": "Python 3.7.6 64-bit ('base': conda)"
  },
  "interpreter": {
   "hash": "b321f7ac80f8605842607bcb8e936dc3295fbe9e7b1d32bfa8caf8cc79db5456"
  }
 },
 "nbformat": 4,
 "nbformat_minor": 2
}